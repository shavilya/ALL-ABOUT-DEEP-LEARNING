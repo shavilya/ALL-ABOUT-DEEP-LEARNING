{
  "cells": [
    {
      "cell_type": "code",
      "execution_count": 3,
      "metadata": {
        "id": "_KsT7yT2C3-C"
      },
      "outputs": [],
      "source": [
        "import pandas as pd\n",
        "import numpy as np\n",
        "\n",
        "import matplotlib.pyplot as plt\n",
        "import seaborn as sns\n",
        "\n",
        "import warnings\n",
        "warnings.filterwarnings('ignore')\n",
        "\n",
        "pd.set_option('display.max_rows' , None)\n",
        "pd.set_option('display.max_columns' , None)\n",
        "\n",
        "import tensorflow as tf\n",
        "from tf.keras import Sequential , Input\n",
        "from tf.keras.layers import Dense\n"
      ]
    },
    {
      "cell_type": "code",
      "execution_count": 9,
      "metadata": {
        "colab": {
          "base_uri": "https://localhost:8080/"
        },
        "id": "ZQtRWItqEXQI",
        "outputId": "2b6d0b67-a8f8-49ca-b244-a77c92ba3805"
      },
      "outputs": [
        {
          "name": "stdout",
          "output_type": "stream",
          "text": [
            "Downloading data from https://storage.googleapis.com/tensorflow/tf-keras-datasets/mnist.npz\n",
            "11490434/11490434 [==============================] - 0s 0us/step\n",
            "Shape of x train: (60000, 28, 28)\n",
            "Shape of y train: (60000,)\n",
            "Shape of x test: (10000, 28, 28)\n",
            "Shape of y test: (10000,)\n"
          ]
        }
      ],
      "source": [
        "# Load the dataset.\n",
        "\n",
        "(x_train , y_train) , (x_test,y_test) = tf.keras.datasets.mnist.load_data()\n",
        "\n",
        "print(f\"Shape of x train: {x_train.shape}\\nShape of y train: {y_train.shape}\\nShape of x test: {x_test.shape}\\nShape of y test: {y_test.shape}\")"
      ]
    },
    {
      "cell_type": "code",
      "execution_count": 14,
      "metadata": {
        "colab": {
          "base_uri": "https://localhost:8080/"
        },
        "id": "WY8Li0J5GTNU",
        "outputId": "9bfc9095-57be-478f-e4f4-1305ef97f4ec"
      },
      "outputs": [
        {
          "data": {
            "text/plain": [
              "28"
            ]
          },
          "execution_count": 14,
          "metadata": {},
          "output_type": "execute_result"
        }
      ],
      "source": [
        "x_train.shape[1]"
      ]
    },
    {
      "cell_type": "code",
      "execution_count": 22,
      "metadata": {
        "colab": {
          "base_uri": "https://localhost:8080/"
        },
        "id": "WB0_tZ2WHm4D",
        "outputId": "8e378196-3622-406d-bf1c-6ff35f6d939d"
      },
      "outputs": [
        {
          "data": {
            "text/plain": [
              "array([5, 0, 4, 1, 9, 2, 1, 3, 1, 4, 3, 5, 3, 6, 1, 7, 2, 8, 6, 9, 4, 0,\n",
              "       9, 1, 1, 2, 4, 3, 2, 7, 3, 8, 6, 9, 0, 5, 6, 0, 7, 6, 1, 8, 7, 9,\n",
              "       3, 9, 8, 5, 9, 3, 3, 0, 7, 4, 9, 8, 0, 9, 4, 1, 4, 4, 6, 0, 4, 5,\n",
              "       6, 1, 0, 0, 1, 7, 1, 6, 3, 0, 2, 1, 1, 7, 9, 0, 2, 6, 7, 8, 3, 9,\n",
              "       0, 4, 6, 7, 4, 6, 8, 0, 7, 8, 3, 1], dtype=uint8)"
            ]
          },
          "execution_count": 22,
          "metadata": {},
          "output_type": "execute_result"
        }
      ],
      "source": [
        "y_train[:100]"
      ]
    },
    {
      "cell_type": "code",
      "execution_count": 12,
      "metadata": {
        "colab": {
          "base_uri": "https://localhost:8080/"
        },
        "id": "AGpmWUH7FHim",
        "outputId": "2ca0a372-6283-4bb7-f4ac-b0cf92201813"
      },
      "outputs": [
        {
          "data": {
            "text/plain": [
              "array([[[  0,   0,   0,   0,   0,   0,   0,   0,   0,   0,   0,   0,\n",
              "           0,   0,   0,   0,   0,   0,   0,   0,   0,   0,   0,   0,\n",
              "           0,   0,   0,   0],\n",
              "        [  0,   0,   0,   0,   0,   0,   0,   0,   0,   0,   0,   0,\n",
              "           0,   0,   0,   0,   0,   0,   0,   0,   0,   0,   0,   0,\n",
              "           0,   0,   0,   0],\n",
              "        [  0,   0,   0,   0,   0,   0,   0,   0,   0,   0,   0,   0,\n",
              "           0,   0,   0,   0,   0,   0,   0,   0,   0,   0,   0,   0,\n",
              "           0,   0,   0,   0],\n",
              "        [  0,   0,   0,   0,   0,   0,   0,   0,   0,   0,   0,   0,\n",
              "           0,   0,   0,   0,   0,   0,   0,   0,   0,   0,   0,   0,\n",
              "           0,   0,   0,   0],\n",
              "        [  0,   0,   0,   0,   0,   0,   0,   0,   0,   0,   0,   0,\n",
              "           0,   0,   0,   0,   0,   0,   0,   0,   0,   0,   0,   0,\n",
              "           0,   0,   0,   0],\n",
              "        [  0,   0,   0,   0,   0,   0,   0,   0,   0,   0,   0,   0,\n",
              "           3,  18,  18,  18, 126, 136, 175,  26, 166, 255, 247, 127,\n",
              "           0,   0,   0,   0],\n",
              "        [  0,   0,   0,   0,   0,   0,   0,   0,  30,  36,  94, 154,\n",
              "         170, 253, 253, 253, 253, 253, 225, 172, 253, 242, 195,  64,\n",
              "           0,   0,   0,   0],\n",
              "        [  0,   0,   0,   0,   0,   0,   0,  49, 238, 253, 253, 253,\n",
              "         253, 253, 253, 253, 253, 251,  93,  82,  82,  56,  39,   0,\n",
              "           0,   0,   0,   0],\n",
              "        [  0,   0,   0,   0,   0,   0,   0,  18, 219, 253, 253, 253,\n",
              "         253, 253, 198, 182, 247, 241,   0,   0,   0,   0,   0,   0,\n",
              "           0,   0,   0,   0],\n",
              "        [  0,   0,   0,   0,   0,   0,   0,   0,  80, 156, 107, 253,\n",
              "         253, 205,  11,   0,  43, 154,   0,   0,   0,   0,   0,   0,\n",
              "           0,   0,   0,   0],\n",
              "        [  0,   0,   0,   0,   0,   0,   0,   0,   0,  14,   1, 154,\n",
              "         253,  90,   0,   0,   0,   0,   0,   0,   0,   0,   0,   0,\n",
              "           0,   0,   0,   0],\n",
              "        [  0,   0,   0,   0,   0,   0,   0,   0,   0,   0,   0, 139,\n",
              "         253, 190,   2,   0,   0,   0,   0,   0,   0,   0,   0,   0,\n",
              "           0,   0,   0,   0],\n",
              "        [  0,   0,   0,   0,   0,   0,   0,   0,   0,   0,   0,  11,\n",
              "         190, 253,  70,   0,   0,   0,   0,   0,   0,   0,   0,   0,\n",
              "           0,   0,   0,   0],\n",
              "        [  0,   0,   0,   0,   0,   0,   0,   0,   0,   0,   0,   0,\n",
              "          35, 241, 225, 160, 108,   1,   0,   0,   0,   0,   0,   0,\n",
              "           0,   0,   0,   0],\n",
              "        [  0,   0,   0,   0,   0,   0,   0,   0,   0,   0,   0,   0,\n",
              "           0,  81, 240, 253, 253, 119,  25,   0,   0,   0,   0,   0,\n",
              "           0,   0,   0,   0],\n",
              "        [  0,   0,   0,   0,   0,   0,   0,   0,   0,   0,   0,   0,\n",
              "           0,   0,  45, 186, 253, 253, 150,  27,   0,   0,   0,   0,\n",
              "           0,   0,   0,   0],\n",
              "        [  0,   0,   0,   0,   0,   0,   0,   0,   0,   0,   0,   0,\n",
              "           0,   0,   0,  16,  93, 252, 253, 187,   0,   0,   0,   0,\n",
              "           0,   0,   0,   0],\n",
              "        [  0,   0,   0,   0,   0,   0,   0,   0,   0,   0,   0,   0,\n",
              "           0,   0,   0,   0,   0, 249, 253, 249,  64,   0,   0,   0,\n",
              "           0,   0,   0,   0],\n",
              "        [  0,   0,   0,   0,   0,   0,   0,   0,   0,   0,   0,   0,\n",
              "           0,   0,  46, 130, 183, 253, 253, 207,   2,   0,   0,   0,\n",
              "           0,   0,   0,   0],\n",
              "        [  0,   0,   0,   0,   0,   0,   0,   0,   0,   0,   0,   0,\n",
              "          39, 148, 229, 253, 253, 253, 250, 182,   0,   0,   0,   0,\n",
              "           0,   0,   0,   0],\n",
              "        [  0,   0,   0,   0,   0,   0,   0,   0,   0,   0,  24, 114,\n",
              "         221, 253, 253, 253, 253, 201,  78,   0,   0,   0,   0,   0,\n",
              "           0,   0,   0,   0],\n",
              "        [  0,   0,   0,   0,   0,   0,   0,   0,  23,  66, 213, 253,\n",
              "         253, 253, 253, 198,  81,   2,   0,   0,   0,   0,   0,   0,\n",
              "           0,   0,   0,   0],\n",
              "        [  0,   0,   0,   0,   0,   0,  18, 171, 219, 253, 253, 253,\n",
              "         253, 195,  80,   9,   0,   0,   0,   0,   0,   0,   0,   0,\n",
              "           0,   0,   0,   0],\n",
              "        [  0,   0,   0,   0,  55, 172, 226, 253, 253, 253, 253, 244,\n",
              "         133,  11,   0,   0,   0,   0,   0,   0,   0,   0,   0,   0,\n",
              "           0,   0,   0,   0],\n",
              "        [  0,   0,   0,   0, 136, 253, 253, 253, 212, 135, 132,  16,\n",
              "           0,   0,   0,   0,   0,   0,   0,   0,   0,   0,   0,   0,\n",
              "           0,   0,   0,   0],\n",
              "        [  0,   0,   0,   0,   0,   0,   0,   0,   0,   0,   0,   0,\n",
              "           0,   0,   0,   0,   0,   0,   0,   0,   0,   0,   0,   0,\n",
              "           0,   0,   0,   0],\n",
              "        [  0,   0,   0,   0,   0,   0,   0,   0,   0,   0,   0,   0,\n",
              "           0,   0,   0,   0,   0,   0,   0,   0,   0,   0,   0,   0,\n",
              "           0,   0,   0,   0],\n",
              "        [  0,   0,   0,   0,   0,   0,   0,   0,   0,   0,   0,   0,\n",
              "           0,   0,   0,   0,   0,   0,   0,   0,   0,   0,   0,   0,\n",
              "           0,   0,   0,   0]]], dtype=uint8)"
            ]
          },
          "execution_count": 12,
          "metadata": {},
          "output_type": "execute_result"
        }
      ],
      "source": [
        "x_train[:1]"
      ]
    },
    {
      "cell_type": "code",
      "execution_count": 24,
      "metadata": {
        "id": "ZWmR8Q9gFRFX"
      },
      "outputs": [],
      "source": [
        "# Build a neural-network model.\n",
        "\n",
        "\n",
        "\n",
        "model = tf.keras.models.Sequential([\n",
        "    tf.keras.layers.Flatten(input_shape = (28,28)),\n",
        "    tf.keras.layers.Dense(128 , activation = 'relu'),\n",
        "    tf.keras.layers.Dense(64 , activation = 'relu'),\n",
        "    tf.keras.layers.Dense(10 , activation = 'softmax')\n",
        "])\n",
        "\n",
        "model.compile(optimizer = 'adam' , loss = 'sparse_categorical_crossentropy' , metrics = ['accuracy'])\n"
      ]
    },
    {
      "cell_type": "code",
      "execution_count": 26,
      "metadata": {
        "colab": {
          "base_uri": "https://localhost:8080/"
        },
        "id": "oyis1tKpIoiv",
        "outputId": "76dfdc50-a75f-4a65-bff7-df48e6221503"
      },
      "outputs": [
        {
          "name": "stdout",
          "output_type": "stream",
          "text": [
            "Epoch 1/20\n",
            "1875/1875 [==============================] - 8s 4ms/step - loss: 0.0838 - accuracy: 0.9768 - val_loss: 0.1770 - val_accuracy: 0.9623\n",
            "Epoch 2/20\n",
            "1875/1875 [==============================] - 6s 3ms/step - loss: 0.0801 - accuracy: 0.9785 - val_loss: 0.1466 - val_accuracy: 0.9699\n",
            "Epoch 3/20\n",
            "1875/1875 [==============================] - 7s 4ms/step - loss: 0.0739 - accuracy: 0.9802 - val_loss: 0.2215 - val_accuracy: 0.9607\n",
            "Epoch 4/20\n",
            "1875/1875 [==============================] - 6s 3ms/step - loss: 0.0754 - accuracy: 0.9795 - val_loss: 0.1945 - val_accuracy: 0.9636\n",
            "Epoch 5/20\n",
            "1875/1875 [==============================] - 7s 4ms/step - loss: 0.0711 - accuracy: 0.9815 - val_loss: 0.1582 - val_accuracy: 0.9664\n",
            "Epoch 6/20\n",
            "1875/1875 [==============================] - 6s 3ms/step - loss: 0.0655 - accuracy: 0.9830 - val_loss: 0.1669 - val_accuracy: 0.9704\n",
            "Epoch 7/20\n",
            "1875/1875 [==============================] - 7s 4ms/step - loss: 0.0687 - accuracy: 0.9823 - val_loss: 0.1695 - val_accuracy: 0.9687\n",
            "Epoch 8/20\n",
            "1875/1875 [==============================] - 6s 3ms/step - loss: 0.0654 - accuracy: 0.9836 - val_loss: 0.1847 - val_accuracy: 0.9685\n",
            "Epoch 9/20\n",
            "1875/1875 [==============================] - 7s 4ms/step - loss: 0.0609 - accuracy: 0.9846 - val_loss: 0.2222 - val_accuracy: 0.9659\n",
            "Epoch 10/20\n",
            "1875/1875 [==============================] - 7s 4ms/step - loss: 0.0558 - accuracy: 0.9858 - val_loss: 0.2008 - val_accuracy: 0.9696\n",
            "Epoch 11/20\n",
            "1875/1875 [==============================] - 6s 3ms/step - loss: 0.0606 - accuracy: 0.9851 - val_loss: 0.1903 - val_accuracy: 0.9695\n",
            "Epoch 12/20\n",
            "1875/1875 [==============================] - 7s 4ms/step - loss: 0.0592 - accuracy: 0.9862 - val_loss: 0.1980 - val_accuracy: 0.9699\n",
            "Epoch 13/20\n",
            "1875/1875 [==============================] - 6s 3ms/step - loss: 0.0516 - accuracy: 0.9873 - val_loss: 0.1918 - val_accuracy: 0.9717\n",
            "Epoch 14/20\n",
            "1875/1875 [==============================] - 8s 4ms/step - loss: 0.0534 - accuracy: 0.9876 - val_loss: 0.1967 - val_accuracy: 0.9711\n",
            "Epoch 15/20\n",
            "1875/1875 [==============================] - 6s 3ms/step - loss: 0.0547 - accuracy: 0.9868 - val_loss: 0.2307 - val_accuracy: 0.9668\n",
            "Epoch 16/20\n",
            "1875/1875 [==============================] - 7s 4ms/step - loss: 0.0569 - accuracy: 0.9872 - val_loss: 0.2152 - val_accuracy: 0.9685\n",
            "Epoch 17/20\n",
            "1875/1875 [==============================] - 6s 3ms/step - loss: 0.0509 - accuracy: 0.9878 - val_loss: 0.2509 - val_accuracy: 0.9702\n",
            "Epoch 18/20\n",
            "1875/1875 [==============================] - 6s 3ms/step - loss: 0.0479 - accuracy: 0.9888 - val_loss: 0.2905 - val_accuracy: 0.9673\n",
            "Epoch 19/20\n",
            "1875/1875 [==============================] - 6s 3ms/step - loss: 0.0511 - accuracy: 0.9883 - val_loss: 0.2316 - val_accuracy: 0.9717\n",
            "Epoch 20/20\n",
            "1875/1875 [==============================] - 7s 4ms/step - loss: 0.0460 - accuracy: 0.9898 - val_loss: 0.2087 - val_accuracy: 0.9712\n"
          ]
        },
        {
          "data": {
            "text/plain": [
              "<keras.src.callbacks.History at 0x7ce0a16bc640>"
            ]
          },
          "execution_count": 26,
          "metadata": {},
          "output_type": "execute_result"
        }
      ],
      "source": [
        "model.fit(x_train , y_train , validation_data=(x_test,y_test) , epochs = 20)"
      ]
    },
    {
      "cell_type": "code",
      "execution_count": 27,
      "metadata": {
        "colab": {
          "base_uri": "https://localhost:8080/"
        },
        "id": "fSak82VVI_Zv",
        "outputId": "967d23c8-3126-4237-aa5d-3cad7ecc85c1"
      },
      "outputs": [
        {
          "name": "stdout",
          "output_type": "stream",
          "text": [
            "313/313 - 0s - loss: 0.2087 - accuracy: 0.9712 - 333ms/epoch - 1ms/step\n"
          ]
        },
        {
          "data": {
            "text/plain": [
              "[0.2087297886610031, 0.9711999893188477]"
            ]
          },
          "execution_count": 27,
          "metadata": {},
          "output_type": "execute_result"
        }
      ],
      "source": [
        "# Model Evaluation.\n",
        "\n",
        "model.evaluate(x_test,y_test , verbose = 2 )"
      ]
    },
    {
      "cell_type": "code",
      "execution_count": 28,
      "metadata": {
        "colab": {
          "base_uri": "https://localhost:8080/"
        },
        "id": "R0M6DDA-N2vu",
        "outputId": "930d3339-b599-466b-dd67-72b474bcfd2b"
      },
      "outputs": [
        {
          "name": "stdout",
          "output_type": "stream",
          "text": [
            "313/313 [==============================] - 1s 2ms/step\n"
          ]
        },
        {
          "data": {
            "text/plain": [
              "array([[1.5121695e-19, 3.6055503e-15, 1.1561863e-10, 1.4131887e-10,\n",
              "        2.1523975e-15, 1.6610176e-16, 0.0000000e+00, 9.9999994e-01,\n",
              "        1.0608929e-18, 1.2129885e-10]], dtype=float32)"
            ]
          },
          "execution_count": 28,
          "metadata": {},
          "output_type": "execute_result"
        }
      ],
      "source": [
        "y_pred = model.predict(x_test)\n",
        "\n",
        "y_pred[:1]"
      ]
    },
    {
      "cell_type": "code",
      "execution_count": 38,
      "metadata": {
        "id": "HSx0eRk_OMm9"
      },
      "outputs": [],
      "source": [
        "# Saving the model in hdfs [h5] mode.\n",
        "\n",
        "filepath = 'D:\\All-About-Deep-Learning\\save_models'\n",
        "tf.keras.saving.save_model(model ,filepath, overwrite = True , save_format = 'h5')"
      ]
    }
  ],
  "metadata": {
    "colab": {
      "provenance": []
    },
    "kernelspec": {
      "display_name": "Python 3",
      "name": "python3"
    },
    "language_info": {
      "name": "python"
    }
  },
  "nbformat": 4,
  "nbformat_minor": 0
}
